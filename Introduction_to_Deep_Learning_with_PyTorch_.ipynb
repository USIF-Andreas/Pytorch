{
  "nbformat": 4,
  "nbformat_minor": 0,
  "metadata": {
    "colab": {
      "provenance": [],
      "authorship_tag": "ABX9TyN2UWTphXgqk+qcB0UrLSMP",
      "include_colab_link": true
    },
    "kernelspec": {
      "name": "python3",
      "display_name": "Python 3"
    },
    "language_info": {
      "name": "python"
    }
  },
  "cells": [
    {
      "cell_type": "markdown",
      "metadata": {
        "id": "view-in-github",
        "colab_type": "text"
      },
      "source": [
        "<a href=\"https://colab.research.google.com/github/USIF-Andreas/Pytorch/blob/main/Introduction_to_Deep_Learning_with_PyTorch_.ipynb\" target=\"_parent\"><img src=\"https://colab.research.google.com/assets/colab-badge.svg\" alt=\"Open In Colab\"/></a>"
      ]
    },
    {
      "cell_type": "markdown",
      "source": [
        "# **Delve into Deep Learning with PyTorch**: Master advanced neural network architectures, optimize training processes, and explore cutting-edge machine learning algorithms.\"\n"
      ],
      "metadata": {
        "id": "RHVE6pooJ1GF"
      }
    },
    {
      "cell_type": "code",
      "execution_count": null,
      "metadata": {
        "id": "pZLBIJm9JvEr"
      },
      "outputs": [],
      "source": [
        "import torch\n",
        "import torch.nn as nn\n",
        "from torch import Tensor as tt"
      ]
    },
    {
      "cell_type": "code",
      "source": [
        "input_tensor = torch.Tensor([[2, 3, 6, 7, 9, 3, 2, 1]])\n",
        "input_tensor_2 = torch.tensor([[2, 3, 6, 7, 9, 3, 2, 1]])"
      ],
      "metadata": {
        "id": "CduKoxGtKv41"
      },
      "execution_count": null,
      "outputs": []
    },
    {
      "cell_type": "code",
      "source": [
        "input_shape=input_tensor.shape\n",
        "input_shape2=input_tensor_2.shape\n",
        "print(input_shape)\n",
        "print(input_shape2)"
      ],
      "metadata": {
        "colab": {
          "base_uri": "https://localhost:8080/"
        },
        "id": "MFX4kystLZzC",
        "outputId": "b39a7bc7-30cb-4d44-cd3e-81715c94fd24"
      },
      "execution_count": null,
      "outputs": [
        {
          "output_type": "stream",
          "name": "stdout",
          "text": [
            "torch.Size([1, 8])\n",
            "torch.Size([1, 8])\n"
          ]
        }
      ]
    },
    {
      "cell_type": "markdown",
      "source": [
        "Difference between `torch.Tensor` and `torch.tensor`:\n",
        "\n",
        "`torch.Tensor` is a class, while `torch.tensor `is a factory function.\n",
        "\n",
        "`torch.Tensor` often infers the data type based on the input, defaulting to `float32`.\n",
        "\n",
        "`torch.tensor` provides more control over the data type using the dtype argument."
      ],
      "metadata": {
        "id": "R4BFWQYANADf"
      }
    },
    {
      "cell_type": "code",
      "source": [
        "input_dtype=input_tensor.dtype\n",
        "input_dtype2=input_tensor_2.dtype\n",
        "print(input_dtype)\n",
        "print(input_dtype2)"
      ],
      "metadata": {
        "colab": {
          "base_uri": "https://localhost:8080/"
        },
        "id": "0aItS_UFLdb_",
        "outputId": "0c7204ef-40dd-4489-88ef-b2e93c5a1403"
      },
      "execution_count": null,
      "outputs": [
        {
          "output_type": "stream",
          "name": "stdout",
          "text": [
            "torch.float32\n",
            "torch.int64\n"
          ]
        }
      ]
    },
    {
      "cell_type": "code",
      "source": [
        "model = nn.Sequential(\n",
        "    nn.Linear(8, 10),\n",
        "    nn.Linear(10, 1)\n",
        "                     )"
      ],
      "metadata": {
        "id": "TsuA5HAaLsiU"
      },
      "execution_count": null,
      "outputs": []
    },
    {
      "cell_type": "code",
      "source": [],
      "metadata": {
        "id": "KTZKVWdbeJQx"
      },
      "execution_count": null,
      "outputs": []
    }
  ]
}